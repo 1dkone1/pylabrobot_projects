{
 "cells": [
  {
   "cell_type": "code",
   "execution_count": 1,
   "metadata": {},
   "outputs": [],
   "source": [
    "%load_ext autoreload\n",
    "%autoreload 2\n",
    "from pylabrobot.liquid_handling import LiquidHandler\n",
    "from pylabrobot.liquid_handling.backends import Vantage\n",
    "from pylabrobot.resources.hamilton import VantageDeck\n",
    "backend = VantageDeck(size=1.3)\n",
    "lh = LiquidHandler(backend=Vantage(), deck=backend)"
   ]
  },
  {
   "cell_type": "code",
   "execution_count": null,
   "metadata": {},
   "outputs": [],
   "source": [
    "await lh.setup()\n"
   ]
  },
  {
   "cell_type": "code",
   "execution_count": null,
   "metadata": {},
   "outputs": [],
   "source": [
    "import sys; print(sys.path)"
   ]
  },
  {
   "cell_type": "code",
   "execution_count": null,
   "metadata": {},
   "outputs": [],
   "source": [
    "import logging\n",
    "from pathlib import Path\n",
    "from pylabrobot.config import Config\n",
    "\n",
    "config = Config(\n",
    "  logging=Config.Logging(\n",
    "    level=logging.DEBUG,\n",
    "    log_dir=Path(\"my_logs\")\n",
    "  )\n",
    ")"
   ]
  },
  {
   "cell_type": "code",
   "execution_count": 2,
   "metadata": {},
   "outputs": [
    {
     "ename": "ImportError",
     "evalue": "cannot import name 'Cos_96_DW_1mL' from 'pylabrobot.resources' (/Users/danielkozyrytski/pylabrobot/pylabrobot/resources/__init__.py)",
     "output_type": "error",
     "traceback": [
      "\u001b[0;31m---------------------------------------------------------------------------\u001b[0m",
      "\u001b[0;31mImportError\u001b[0m                               Traceback (most recent call last)",
      "Cell \u001b[0;32mIn[2], line 1\u001b[0m\n\u001b[0;32m----> 1\u001b[0m \u001b[39mfrom\u001b[39;00m \u001b[39mpylabrobot\u001b[39;00m\u001b[39m.\u001b[39;00m\u001b[39mresources\u001b[39;00m \u001b[39mimport\u001b[39;00m (\n\u001b[1;32m      2\u001b[0m     TIP_CAR_480_A00,\n\u001b[1;32m      3\u001b[0m     PLT_CAR_L5AC_A00,\n\u001b[1;32m      4\u001b[0m     Cos_96_DW_1mL,\n\u001b[1;32m      5\u001b[0m     PCR_Plate_96_Well,\n\u001b[1;32m      6\u001b[0m     Cos_96_PCR,\n\u001b[1;32m      7\u001b[0m     Cos_96_DW_2mL,\n\u001b[1;32m      8\u001b[0m     HTF_L,  \u001b[39m#\"\"\" Tip Rack with 96 1000ul High Volume Tip with filter \"\"\"\u001b[39;00m\n\u001b[1;32m      9\u001b[0m     LT_L,   \u001b[39m#\"\"\" Tip Rack with 96 10ul Low Volume Tip with filter \"\"\"\u001b[39;00m\n\u001b[1;32m     10\u001b[0m     STF_L,  \u001b[39m#\"\"\" Tip Rack with 96 300ul Standard Volume Tip with filter \"\"\"\u001b[39;00m\n\u001b[1;32m     11\u001b[0m )\n",
      "\u001b[0;31mImportError\u001b[0m: cannot import name 'Cos_96_DW_1mL' from 'pylabrobot.resources' (/Users/danielkozyrytski/pylabrobot/pylabrobot/resources/__init__.py)"
     ]
    }
   ],
   "source": [
    "from pylabrobot.resources import (\n",
    "    TIP_CAR_480_A00,\n",
    "    PLT_CAR_L5AC_A00,\n",
    "    Cos_96_DW_1mL,\n",
    "    PCR_Plate_96_Well,\n",
    "    Cos_96_PCR,\n",
    "    Cos_96_DW_2mL,\n",
    "    HTF_L,  #\"\"\" Tip Rack with 96 1000ul High Volume Tip with filter \"\"\"\n",
    "    LT_L,   #\"\"\" Tip Rack with 96 10ul Low Volume Tip with filter \"\"\"\n",
    "    STF_L,  #\"\"\" Tip Rack with 96 300ul Standard Volume Tip with filter \"\"\"\n",
    ")"
   ]
  },
  {
   "cell_type": "code",
   "execution_count": null,
   "metadata": {},
   "outputs": [],
   "source": [
    "lh.summary()"
   ]
  },
  {
   "cell_type": "code",
   "execution_count": null,
   "metadata": {},
   "outputs": [],
   "source": [
    "tip_car = TIP_CAR_480_A00(name='tip carrier')\n",
    "tip_car[0] = LT_L(name='p_10')\n",
    "tip_car[1] = STF_L(name='p_300')\n",
    "tip_car[2] = HTF_L(name='p_1000')\n",
    "\n",
    "\n",
    "\n",
    "plt_car = PLT_CAR_L5AC_A00(name='plate carrier')\n",
    "plt_car[0] = Cos_96_DW_1mL(name='final')\n",
    "plt_car[1] = Cos_96_PCR(name='source')\n",
    "plt_car[2] = Cos_96_DW_2mL(name='buffer')\n",
    " "
   ]
  },
  {
   "cell_type": "code",
   "execution_count": null,
   "metadata": {},
   "outputs": [],
   "source": [
    "lh.deck.assign_child_resource(tip_car, rails=24)\n",
    "lh.deck.assign_child_resource(plt_car, rails=17)\n",
    "lh.summary()"
   ]
  },
  {
   "cell_type": "code",
   "execution_count": null,
   "metadata": {},
   "outputs": [],
   "source": [
    "p_10 = lh.deck.get_resource(\"p_10\")\n",
    "p_300 = lh.deck.get_resource(\"p_300\")\n",
    "p_1000 = lh.deck.get_resource(\"p_1000\")\n",
    "\n",
    "q_bitp = lh.deck.get_resource(\"final\")\n",
    "buffer = lh.deck.get_resource(\"buffer\")\n",
    "source = lh.deck.get_resource(\"source\")\n"
   ]
  },
  {
   "cell_type": "code",
   "execution_count": null,
   "metadata": {},
   "outputs": [],
   "source": [
    "# await lh.pick_up_tips(p_300[\"A1:H1\"])"
   ]
  },
  {
   "cell_type": "code",
   "execution_count": null,
   "metadata": {},
   "outputs": [],
   "source": [
    "# await lh.drop_tips(p_300[\"A1:H1\"])"
   ]
  },
  {
   "cell_type": "code",
   "execution_count": null,
   "metadata": {},
   "outputs": [],
   "source": [
    "print(\"How many columns do you have?\")\n",
    "#column = int(input())\n",
    "\n",
    "#column_number = int(input())\n",
    "\n",
    "a = 199.0\n",
    "q_bit_volume = [a, a, a, a, a, a, a, a]\n",
    "column_number = 3 #number of columns that you are using\n",
    "\n",
    "await lh.pick_up_tips(p_300[\"A1:H1\"])\n",
    "\n",
    "for i in range(0, column_number):\n",
    "    await lh.aspirate(buffer[\"A1:H1\"], vols = q_bit_volume)\n",
    "    await lh.dispense(q_bitp[f\"A{i+1}:H{i+1}\"], vols = q_bit_volume)\n",
    "    \n",
    "#await lh.discard_tips()\n",
    "await lh.drop_tips(p_300[\"A1:H1\"])\n",
    "\n"
   ]
  },
  {
   "cell_type": "code",
   "execution_count": null,
   "metadata": {},
   "outputs": [],
   "source": [
    "#THE NEW STRATEGY OF GETTING 1 UL\n",
    "\n",
    "column_number = 3 #number of columns that you are using\n",
    "\n",
    "mix_cycles = 3 #number of mix cycles after dispencing dna into the q_bit buffer \n",
    "\n",
    "dna_qbit_vol = 1.0\n",
    "b = 10.0 #mix volume\n",
    "c = 5 #number of mixing cycles\n",
    "mix_v = [b, b, b, b, b, b, b, b]\n",
    "dna_volume = [dna_qbit_vol, dna_qbit_vol, dna_qbit_vol, dna_qbit_vol, dna_qbit_vol, dna_qbit_vol, dna_qbit_vol, dna_qbit_vol]\n",
    "\n",
    "for j in range(0, column_number):\n",
    "    await lh.pick_up_tips(p_10[f\"A{j+1}:H{j+1}\"])\n",
    "    await lh.aspirate(source[f\"A{j+1}:H{j+1}\"], vols = [10]*8)\n",
    "    await lh.dispense(source[f\"A{j+1}:H{j+1}\"], vols = [9]*8)\n",
    "    await lh.aspirate(q_bitp[f\"A{j+1}:H{j+1}\"], vols = [7]*8)\n",
    "    await lh.dispense(q_bitp[f\"A{j+1}:H{j+1}\"], vols = [8]*8)\n",
    "    for g in range (0, mix_cycles):\n",
    "            await lh.aspirate(q_bitp[f\"A{j+1}:H{j+1}\"], vols = mix_v)\n",
    "            await lh.dispense(q_bitp[f\"A{j+1}:H{j+1}\"], vols = mix_v) \n",
    "\n",
    "    await lh.discard_tips()\n",
    "    # await lh.drop_tips(p_10[f\"A{j+1}:H{j+1}\"])\n"
   ]
  },
  {
   "cell_type": "code",
   "execution_count": null,
   "metadata": {},
   "outputs": [],
   "source": [
    "dna_qbit_vol = 1.0\n",
    "column_number = 1 #number of columns that you are using\n",
    "b = 10.0 #mix volume\n",
    "c = 5 #number of mixing cycles\n",
    "mix_v = [b, b, b, b, b, b, b, b]\n",
    "mix_c = 5\n",
    "dna_volume = [dna_qbit_vol, dna_qbit_vol, dna_qbit_vol, dna_qbit_vol, dna_qbit_vol, dna_qbit_vol, dna_qbit_vol, dna_qbit_vol]\n",
    "for j in range(0, column_number):\n",
    "    await lh.pick_up_tips(p_10[f\"A{j+1}:H{j+1}\"])\n",
    "    await lh.aspirate(source[f\"A{j+1}:H{j+1}\"], vols = dna_volume)\n",
    "    await lh.dispense(q_bitp[f\"A{j+1}:H{j+1}\"], vols = dna_volume)\n",
    "#     await lh.dispense(q_bitp[f\"A{j+1}:H{j+1}\"], vols = dna_volume, mix_volume = mix_v, mix_cycles = mix_c)\n",
    "#     await lh.dispense(q_bitp[f\"A{j+1}:H{j+1}\"], vols = dna_volume, mix_volume = [10.0]*8, mix_cycles = 5)\n",
    "#, mix_volume = 10.0, mix_cycles = 5\n",
    "    for g in range (0, 3):\n",
    "            await lh.aspirate(q_bitp[f\"A{j+1}:H{j+1}\"], vols = mix_v)\n",
    "            await lh.dispense(q_bitp[f\"A{j+1}:H{j+1}\"], vols = mix_v) \n",
    "\n",
    "    await lh.discard_tips()\n",
    "    #await lh.drop_tips(p_10[f\"A{j+1}:H{j+1}\"])\n"
   ]
  },
  {
   "cell_type": "markdown",
   "metadata": {},
   "source": [
    "Put the plate in the plate reader and export the concentrations as .csv"
   ]
  },
  {
   "cell_type": "code",
   "execution_count": null,
   "metadata": {},
   "outputs": [],
   "source": [
    "await lh.drop_tips(p_10[\"A3:H3\"])"
   ]
  },
  {
   "cell_type": "code",
   "execution_count": null,
   "metadata": {},
   "outputs": [],
   "source": [
    "await lh.pick_up_tips(p_10[\"A6:H6\"])\n"
   ]
  },
  {
   "cell_type": "code",
   "execution_count": null,
   "metadata": {},
   "outputs": [],
   "source": [
    "await lh.discard_tips()"
   ]
  },
  {
   "cell_type": "code",
   "execution_count": null,
   "metadata": {},
   "outputs": [],
   "source": [
    "# #await lh.aspirate(buffer[\"A1:H1\"], vols = 199.0)\n",
    "# a = 199.0\n",
    "# #q_bit_volume = [199.0, 199.0, 199.0, 199.0, 199.0, 199.0, 199.0, 199.0]\n",
    "# q_bit_volume = [a, a, a, a, a, a, a, a]\n",
    "# await lh.dispense(buffer[\"A1:H1\"], vols = q_bit_volume)"
   ]
  },
  {
   "cell_type": "code",
   "execution_count": null,
   "metadata": {},
   "outputs": [],
   "source": [
    "await lh.discard_tips()"
   ]
  },
  {
   "cell_type": "code",
   "execution_count": null,
   "metadata": {},
   "outputs": [],
   "source": [
    "await lh.drop_tips(tips_300[\"A1:H1\"])"
   ]
  },
  {
   "cell_type": "code",
   "execution_count": null,
   "metadata": {},
   "outputs": [],
   "source": [
    "await lh.pick_up_tips(tips_10[\"A1:H1\"])"
   ]
  },
  {
   "cell_type": "code",
   "execution_count": null,
   "metadata": {},
   "outputs": [],
   "source": [
    "for i in range (1, column):\n",
    "    await lh.aspirate(source[f\"A{i}:H{i}\"], vols = 1.0)\n",
    "    await lh.drop_tips(trash)\n",
    "    await lh.dispense(q_bitp[f\"A{i}:H{i}\"], vols = 1.0, mix_volume = 10.0, mix_cycles = 10)"
   ]
  }
 ],
 "metadata": {
  "kernelspec": {
   "display_name": "Python 3.11.1 64-bit",
   "language": "python",
   "name": "python3"
  },
  "language_info": {
   "codemirror_mode": {
    "name": "ipython",
    "version": 3
   },
   "file_extension": ".py",
   "mimetype": "text/x-python",
   "name": "python",
   "nbconvert_exporter": "python",
   "pygments_lexer": "ipython3",
   "version": "3.11.1"
  },
  "orig_nbformat": 4,
  "vscode": {
   "interpreter": {
    "hash": "aee8b7b246df8f9039afb4144a1f6fd8d2ca17a180786b69acc140d282b71a49"
   }
  }
 },
 "nbformat": 4,
 "nbformat_minor": 2
}
