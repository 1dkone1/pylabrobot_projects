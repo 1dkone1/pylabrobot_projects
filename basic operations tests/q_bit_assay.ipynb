{
 "cells": [
  {
   "cell_type": "code",
   "execution_count": 15,
   "metadata": {},
   "outputs": [
    {
     "name": "stdout",
     "output_type": "stream",
     "text": [
      "The autoreload extension is already loaded. To reload it, use:\n",
      "  %reload_ext autoreload\n"
     ]
    }
   ],
   "source": [
    "import sys\n",
    "import os\n",
    "\n",
    "# Add the path to the project containing the modules\n",
    "pylabrobot = \"/Users/danielkozyrytski/pylabrobot\"\n",
    "sys.path.append(pylabrobot)\n",
    "\n",
    "\n",
    "\n",
    "%load_ext autoreload\n",
    "%autoreload 2\n",
    "\n",
    "\n",
    "\n",
    "from pylabrobot.liquid_handling import LiquidHandler\n",
    "from pylabrobot.liquid_handling.backends import Vantage\n",
    "from pylabrobot.resources.hamilton import VantageDeck\n",
    "backend = VantageDeck(size=1.3)\n",
    "lh = LiquidHandler(backend=Vantage(), deck=backend)\n"
   ]
  },
  {
   "cell_type": "code",
   "execution_count": null,
   "metadata": {},
   "outputs": [],
   "source": [
    "await lh.setup()\n"
   ]
  },
  {
   "cell_type": "code",
   "execution_count": 16,
   "metadata": {},
   "outputs": [
    {
     "name": "stdout",
     "output_type": "stream",
     "text": [
      "['/Users/danielkozyrytski/Documents/GitHub/pylabrobot_projects/basic operations tests', '/Library/Frameworks/Python.framework/Versions/3.11/lib/python311.zip', '/Library/Frameworks/Python.framework/Versions/3.11/lib/python3.11', '/Library/Frameworks/Python.framework/Versions/3.11/lib/python3.11/lib-dynload', '', '/Users/danielkozyrytski/Library/Python/3.11/lib/python/site-packages', '/Library/Frameworks/Python.framework/Versions/3.11/lib/python3.11/site-packages', '/Users/danielkozyrytski/pylabrobot', '/Users/danielkozyrytski/pylabrobot', '/Users/danielkozyrytski/pylabrobot']\n"
     ]
    }
   ],
   "source": [
    "import sys; print(sys.path)"
   ]
  },
  {
   "cell_type": "code",
   "execution_count": 17,
   "metadata": {},
   "outputs": [],
   "source": [
    "import logging\n",
    "from pathlib import Path\n",
    "from pylabrobot.config import Config\n",
    "\n",
    "config = Config(\n",
    "  logging=Config.Logging(\n",
    "    level=logging.DEBUG,\n",
    "    log_dir=Path(\"my_logs\")\n",
    "  )\n",
    ")"
   ]
  },
  {
   "cell_type": "code",
   "execution_count": 19,
   "metadata": {},
   "outputs": [],
   "source": [
    "from pylabrobot.resources import (\n",
    "    TIP_CAR_480_A00,\n",
    "    PLT_CAR_L5AC_A00,\n",
    "\n",
    "    Cor_96_wellplate_360ul_Fb, #Q_bit final plate\n",
    "    Cos_96_wellplate_2mL_Vb, #Q_bit buffer\n",
    "    \n",
    "    HTF,  #\"\"\" Tip Rack with 96 1000ul High Volume Tip with filter \"\"\"\n",
    "    LT,   #\"\"\" Tip Rack with 96 10ul Low Volume Tip with filter \"\"\"\n",
    "    STF,  #\"\"\" Tip Rack with 96 300ul Standard Volume Tip with filter \"\"\"\n",
    ")\n",
    "\n",
    "# ‘AGenBio_4_troughplate_75000_Vb’ Part no.: RES-75-4MW Would be ideal as buffer reservoir"
   ]
  },
  {
   "cell_type": "code",
   "execution_count": 20,
   "metadata": {},
   "outputs": [
    {
     "name": "stdout",
     "output_type": "stream",
     "text": [
      "Rail  Resource                      Type      Coordinates (mm)\n",
      "============================================================================\n",
      "(30)  ├── trash                     Trash     (757.500, 185.600, 137.100)\n",
      "\n"
     ]
    }
   ],
   "source": [
    "lh.summary()"
   ]
  },
  {
   "cell_type": "code",
   "execution_count": 21,
   "metadata": {},
   "outputs": [
    {
     "ename": "NameError",
     "evalue": "name 'Cos_96_PCR' is not defined",
     "output_type": "error",
     "traceback": [
      "\u001b[0;31m---------------------------------------------------------------------------\u001b[0m",
      "\u001b[0;31mNameError\u001b[0m                                 Traceback (most recent call last)",
      "Cell \u001b[0;32mIn[21], line 9\u001b[0m\n\u001b[1;32m      7\u001b[0m plt_car \u001b[39m=\u001b[39m PLT_CAR_L5AC_A00(name\u001b[39m=\u001b[39m\u001b[39m'\u001b[39m\u001b[39mplate carrier\u001b[39m\u001b[39m'\u001b[39m)\n\u001b[1;32m      8\u001b[0m plt_car[\u001b[39m0\u001b[39m] \u001b[39m=\u001b[39m Cor_96_wellplate_360ul_Fb(name\u001b[39m=\u001b[39m\u001b[39m'\u001b[39m\u001b[39mfinal\u001b[39m\u001b[39m'\u001b[39m) \u001b[39m#Final plate for mesuring \u001b[39;00m\n\u001b[0;32m----> 9\u001b[0m plt_car[\u001b[39m1\u001b[39m] \u001b[39m=\u001b[39m Cos_96_PCR(name\u001b[39m=\u001b[39m\u001b[39m'\u001b[39m\u001b[39msource\u001b[39m\u001b[39m'\u001b[39m) \u001b[39m#PCR plate with dna\u001b[39;00m\n\u001b[1;32m     10\u001b[0m plt_car[\u001b[39m2\u001b[39m] \u001b[39m=\u001b[39m Cos_96_wellplate_2mL_Vb(name\u001b[39m=\u001b[39m\u001b[39m'\u001b[39m\u001b[39mbuffer\u001b[39m\u001b[39m'\u001b[39m) \u001b[39m#Reservoir with buffer\u001b[39;00m\n",
      "\u001b[0;31mNameError\u001b[0m: name 'Cos_96_PCR' is not defined"
     ]
    }
   ],
   "source": [
    "tip_car = TIP_CAR_480_A00(name='tip carrier')\n",
    "tip_car[0] = LT(name='p_10')\n",
    "tip_car[1] = STF(name='p_300')\n",
    "tip_car[2] = HTF(name='p_1000')\n",
    "\n",
    "\n",
    "plt_car = PLT_CAR_L5AC_A00(name='plate carrier')\n",
    "plt_car[0] = Cor_96_wellplate_360ul_Fb(name='final') #Final plate for mesuring \n",
    "plt_car[1] = Cos_96_PCR(name='source') #PCR plate with dna\n",
    "plt_car[2] = Cos_96_wellplate_2mL_Vb(name='buffer') #Reservoir with buffer\n",
    " "
   ]
  },
  {
   "cell_type": "code",
   "execution_count": null,
   "metadata": {},
   "outputs": [],
   "source": [
    "lh.deck.assign_child_resource(tip_car, rails=24) #Tips \n",
    "lh.deck.assign_child_resource(plt_car, rails=17)\n",
    "lh.summary()"
   ]
  },
  {
   "cell_type": "code",
   "execution_count": null,
   "metadata": {},
   "outputs": [],
   "source": [
    "p_10 = lh.deck.get_resource(\"p_10\")\n",
    "p_300 = lh.deck.get_resource(\"p_300\")\n",
    "p_1000 = lh.deck.get_resource(\"p_1000\")\n",
    "\n",
    "q_bitp = lh.deck.get_resource(\"final\")\n",
    "buffer = lh.deck.get_resource(\"buffer\")\n",
    "source = lh.deck.get_resource(\"source\")\n"
   ]
  },
  {
   "cell_type": "code",
   "execution_count": null,
   "metadata": {},
   "outputs": [],
   "source": [
    "# await lh.pick_up_tips(p_300[\"A1:H1\"])"
   ]
  },
  {
   "cell_type": "code",
   "execution_count": null,
   "metadata": {},
   "outputs": [],
   "source": [
    "# await lh.drop_tips(p_300[\"A1:H1\"])"
   ]
  },
  {
   "cell_type": "code",
   "execution_count": null,
   "metadata": {},
   "outputs": [],
   "source": [
    "print(\"How many columns do you have?\")\n",
    "#column = int(input())\n",
    "\n",
    "#column_number = int(input())\n",
    "\n",
    "a = 199.0\n",
    "q_bit_volume = [a, a, a, a, a, a, a, a]\n",
    "column_number = 3 #number of columns that you are using\n",
    "\n",
    "await lh.pick_up_tips(p_300[\"A1:H1\"])\n",
    "\n",
    "for i in range(0, column_number):\n",
    "    await lh.aspirate(buffer[\"A1:H1\"], vols = q_bit_volume)\n",
    "    await lh.dispense(q_bitp[f\"A{i+1}:H{i+1}\"], vols = q_bit_volume)\n",
    "    \n",
    "#await lh.discard_tips()\n",
    "await lh.drop_tips(p_300[\"A1:H1\"])\n",
    "\n"
   ]
  },
  {
   "cell_type": "code",
   "execution_count": null,
   "metadata": {},
   "outputs": [],
   "source": [
    "#THE NEW STRATEGY OF GETTING 1 UL\n",
    "\n",
    "column_number = 3 #number of columns that you are using\n",
    "\n",
    "b = 10.0 #mix volume\n",
    "c = 5 #number of mix cycles after dispencing dna into the q_bit buffer \n",
    "dna_qbit_vol = 1.0 #dna volume (ul) to put into the buffer for the q_bit\n",
    "\n",
    "mix_v = [b, b, b, b, b, b, b, b]\n",
    "dna_volume = [dna_qbit_vol, dna_qbit_vol, dna_qbit_vol, dna_qbit_vol, dna_qbit_vol, dna_qbit_vol, dna_qbit_vol, dna_qbit_vol]\n",
    "mix_c = [c, c, c, c, c, c, c, c]\n",
    "for j in range(0, column_number):\n",
    "    await lh.pick_up_tips(p_10[f\"A{j+1}:H{j+1}\"])\n",
    "    await lh.aspirate(source[f\"A{j+1}:H{j+1}\"], vols = [10]*8)\n",
    "    await lh.dispense(source[f\"A{j+1}:H{j+1}\"], vols = [9]*8)\n",
    "    await lh.aspirate(q_bitp[f\"A{j+1}:H{j+1}\"], vols = [7]*8)\n",
    "    await lh.dispense(q_bitp[f\"A{j+1}:H{j+1}\"], vols = [8]*8, mix_cycles = mix_c, mix_volume = mix_v)\n",
    "    await lh.discard_tips()\n",
    "    # await lh.drop_tips(p_10[f\"A{j+1}:H{j+1}\"])\n"
   ]
  },
  {
   "cell_type": "code",
   "execution_count": null,
   "metadata": {},
   "outputs": [],
   "source": [
    "dna_qbit_vol = 1.0\n",
    "column_number = 1 #number of columns that you are using\n",
    "b = 10.0 #mix volume\n",
    "c = 5 #number of mixing cycles\n",
    "mix_v = [b, b, b, b, b, b, b, b]\n",
    "mix_c = 5\n",
    "dna_volume = [dna_qbit_vol, dna_qbit_vol, dna_qbit_vol, dna_qbit_vol, dna_qbit_vol, dna_qbit_vol, dna_qbit_vol, dna_qbit_vol]\n",
    "for j in range(0, column_number):\n",
    "    await lh.pick_up_tips(p_10[f\"A{j+1}:H{j+1}\"])\n",
    "    await lh.aspirate(source[f\"A{j+1}:H{j+1}\"], vols = dna_volume)\n",
    "    await lh.dispense(q_bitp[f\"A{j+1}:H{j+1}\"], vols = dna_volume)\n",
    "#     await lh.dispense(q_bitp[f\"A{j+1}:H{j+1}\"], vols = dna_volume, mix_volume = mix_v, mix_cycles = mix_c)\n",
    "#     await lh.dispense(q_bitp[f\"A{j+1}:H{j+1}\"], vols = dna_volume, mix_volume = [10.0]*8, mix_cycles = 5)\n",
    "#, mix_volume = 10.0, mix_cycles = 5\n",
    "    for g in range (0, 3):\n",
    "            await lh.aspirate(q_bitp[f\"A{j+1}:H{j+1}\"], vols = mix_v)\n",
    "            await lh.dispense(q_bitp[f\"A{j+1}:H{j+1}\"], vols = mix_v) \n",
    "\n",
    "    await lh.discard_tips()\n",
    "    #await lh.drop_tips(p_10[f\"A{j+1}:H{j+1}\"])\n"
   ]
  },
  {
   "cell_type": "markdown",
   "metadata": {},
   "source": [
    "Put the plate in the plate reader and export the concentrations as .csv"
   ]
  },
  {
   "cell_type": "code",
   "execution_count": null,
   "metadata": {},
   "outputs": [],
   "source": [
    "await lh.drop_tips(p_10[\"A3:H3\"])"
   ]
  },
  {
   "cell_type": "code",
   "execution_count": null,
   "metadata": {},
   "outputs": [],
   "source": [
    "await lh.pick_up_tips(p_10[\"A6:H6\"])\n"
   ]
  },
  {
   "cell_type": "code",
   "execution_count": null,
   "metadata": {},
   "outputs": [],
   "source": [
    "await lh.discard_tips()"
   ]
  },
  {
   "cell_type": "code",
   "execution_count": null,
   "metadata": {},
   "outputs": [],
   "source": [
    "# #await lh.aspirate(buffer[\"A1:H1\"], vols = 199.0)\n",
    "# a = 199.0\n",
    "# #q_bit_volume = [199.0, 199.0, 199.0, 199.0, 199.0, 199.0, 199.0, 199.0]\n",
    "# q_bit_volume = [a, a, a, a, a, a, a, a]\n",
    "# await lh.dispense(buffer[\"A1:H1\"], vols = q_bit_volume)"
   ]
  },
  {
   "cell_type": "code",
   "execution_count": null,
   "metadata": {},
   "outputs": [],
   "source": [
    "await lh.discard_tips()"
   ]
  },
  {
   "cell_type": "code",
   "execution_count": null,
   "metadata": {},
   "outputs": [],
   "source": [
    "await lh.drop_tips(tips_300[\"A1:H1\"])"
   ]
  },
  {
   "cell_type": "code",
   "execution_count": null,
   "metadata": {},
   "outputs": [],
   "source": [
    "await lh.pick_up_tips(tips_10[\"A1:H1\"])"
   ]
  },
  {
   "cell_type": "code",
   "execution_count": null,
   "metadata": {},
   "outputs": [],
   "source": [
    "for i in range (1, column):\n",
    "    await lh.aspirate(source[f\"A{i}:H{i}\"], vols = 1.0)\n",
    "    await lh.drop_tips(trash)\n",
    "    await lh.dispense(q_bitp[f\"A{i}:H{i}\"], vols = 1.0, mix_volume = 10.0, mix_cycles = 10)"
   ]
  }
 ],
 "metadata": {
  "kernelspec": {
   "display_name": "Python 3.11.1 64-bit",
   "language": "python",
   "name": "python3"
  },
  "language_info": {
   "codemirror_mode": {
    "name": "ipython",
    "version": 3
   },
   "file_extension": ".py",
   "mimetype": "text/x-python",
   "name": "python",
   "nbconvert_exporter": "python",
   "pygments_lexer": "ipython3",
   "version": "3.11.1"
  },
  "orig_nbformat": 4,
  "vscode": {
   "interpreter": {
    "hash": "aee8b7b246df8f9039afb4144a1f6fd8d2ca17a180786b69acc140d282b71a49"
   }
  }
 },
 "nbformat": 4,
 "nbformat_minor": 2
}
