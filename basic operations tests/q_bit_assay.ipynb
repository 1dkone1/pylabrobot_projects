{
 "cells": [
  {
   "cell_type": "code",
   "execution_count": 1,
   "metadata": {},
   "outputs": [
    {
     "name": "stdout",
     "output_type": "stream",
     "text": [
      "Trash(name=trash, location=(737.500, 200.000, 137.100), size_x=0, size_y=260, size_z=0, category=None)\n"
     ]
    }
   ],
   "source": [
    "%load_ext autoreload\n",
    "%autoreload 2\n",
    "from pylabrobot.liquid_handling import LiquidHandler\n",
    "from pylabrobot.liquid_handling.backends import Vantage\n",
    "from pylabrobot.resources.hamilton import VantageDeck\n",
    "backend = VantageDeck(size=1.3)\n",
    "lh = LiquidHandler(backend=Vantage(), deck=backend)\n",
    "trash = lh.deck.get_trash_area()\n",
    "print(trash)"
   ]
  },
  {
   "cell_type": "code",
   "execution_count": 2,
   "metadata": {},
   "outputs": [],
   "source": [
    "await lh.setup()\n"
   ]
  },
  {
   "cell_type": "code",
   "execution_count": 4,
   "metadata": {},
   "outputs": [],
   "source": [
    "from pylabrobot.resources import (\n",
    "    TIP_CAR_480_A00,\n",
    "    PLT_CAR_L5AC_A00,\n",
    "    Cos_96_DW_1mL,\n",
    "    PCR_Plate_96_Well,\n",
    "    Cos_96_PCR,\n",
    "    Cos_96_DW_2mL,\n",
    "    HTF_L,  #\"\"\" Tip Rack with 96 1000ul High Volume Tip with filter \"\"\"\n",
    "    LT_L,   #\"\"\" Tip Rack with 96 10ul Low Volume Tip with filter \"\"\"\n",
    "    STF_L,  #\"\"\" Tip Rack with 96 300ul Standard Volume Tip with filter \"\"\"\n",
    ")"
   ]
  },
  {
   "cell_type": "code",
   "execution_count": 5,
   "metadata": {},
   "outputs": [
    {
     "name": "stdout",
     "output_type": "stream",
     "text": [
      "Rail     Resource                   Type                Coordinates (mm)\n",
      "===============================================================================================\n",
      "(29) ├── trash                      Trash               (737.500, 200.000, 137.100)\n",
      "\n"
     ]
    }
   ],
   "source": [
    "lh.summary()"
   ]
  },
  {
   "cell_type": "code",
   "execution_count": 6,
   "metadata": {},
   "outputs": [],
   "source": [
    "tip_car = TIP_CAR_480_A00(name='tip carrier')\n",
    "tip_car[0] = LT_L(name='tips_10')\n",
    "tip_car[1] = STF_L(name='tips_300')\n",
    "tip_car[2] = HTF_L(name='tips_1000')\n",
    "\n",
    "\n",
    "\n",
    "plt_car = PLT_CAR_L5AC_A00(name='plate carrier')\n",
    "plt_car[0] = Cos_96_DW_1mL(name='final')\n",
    "plt_car[1] = Cos_96_PCR(name='source')\n",
    "plt_car[2] = Cos_96_DW_2mL(name='buffer')\n",
    "\n",
    "\n",
    "\n",
    "\n",
    "\n"
   ]
  },
  {
   "cell_type": "code",
   "execution_count": 7,
   "metadata": {},
   "outputs": [
    {
     "name": "stdout",
     "output_type": "stream",
     "text": [
      "Rail     Resource                   Type                Coordinates (mm)\n",
      "===============================================================================================\n",
      "(14) ├── plate carrier              PlateCarrier        (392.500, 063.000, 100.000)\n",
      "     │   ├── final                  Plate               (410.500, 146.000, 187.150)\n",
      "     │   ├── source                 Plate               (410.500, 242.000, 186.650)\n",
      "     │   ├── buffer                 Plate               (410.500, 338.000, 187.150)\n",
      "     │   ├── <empty>\n",
      "     │   ├── <empty>\n",
      "     │\n",
      "(21) ├── tip carrier                TipCarrier          (550.000, 063.000, 100.000)\n",
      "     │   ├── tips_10                TipRack             (567.900, 145.800, 192.450)\n",
      "     │   ├── tips_300               TipRack             (567.900, 241.800, 164.450)\n",
      "     │   ├── tips_1000              TipRack             (567.900, 337.800, 131.450)\n",
      "     │   ├── <empty>\n",
      "     │   ├── <empty>\n",
      "     │\n",
      "(29) ├── trash                      Trash               (737.500, 200.000, 137.100)\n",
      "\n"
     ]
    }
   ],
   "source": [
    "lh.deck.assign_child_resource(tip_car, rails=24)\n",
    "lh.deck.assign_child_resource(plt_car, rails=17)\n",
    "lh.summary()"
   ]
  },
  {
   "cell_type": "code",
   "execution_count": 8,
   "metadata": {},
   "outputs": [],
   "source": [
    "tips_10 = lh.deck.get_resource(\"tips_10\")\n",
    "tips_300 = lh.deck.get_resource(\"tips_300\")\n",
    "tips_1000 = lh.deck.get_resource(\"tips_1000\")\n",
    "\n",
    "q_bitp = lh.deck.get_resource(\"final\")\n",
    "buffer = lh.deck.get_resource(\"buffer\")\n",
    "source = lh.deck.get_resource(\"source\")\n"
   ]
  },
  {
   "cell_type": "code",
   "execution_count": 10,
   "metadata": {},
   "outputs": [],
   "source": [
    "await lh.pick_up_tips(tips_1000[\"A12:H12\"])"
   ]
  },
  {
   "cell_type": "code",
   "execution_count": null,
   "metadata": {},
   "outputs": [],
   "source": [
    "await lh.drop_tips(tips_1000[\"H10\"])"
   ]
  },
  {
   "cell_type": "code",
   "execution_count": null,
   "metadata": {},
   "outputs": [],
   "source": [
    "pos=lh.get_absolute_location()\n",
    "offset=lh.get_2d_center_offset()\n",
    "print(pos, offset)"
   ]
  },
  {
   "cell_type": "code",
   "execution_count": 11,
   "metadata": {},
   "outputs": [],
   "source": [
    "await lh.discard_tips()"
   ]
  },
  {
   "cell_type": "code",
   "execution_count": null,
   "metadata": {},
   "outputs": [],
   "source": [
    "await lh.pick_up_tips(tips_300[\"A1:H1\"])"
   ]
  },
  {
   "cell_type": "code",
   "execution_count": null,
   "metadata": {},
   "outputs": [],
   "source": [
    "print(\"How many columns do you have?\")\n",
    "#column = int(input())\n",
    "\n",
    "#q_bit_volume = [199.0, 199.0, 199.0, 199.0, 199.0, 199.0, 199.0, 199.0]\n",
    "a = 199.0\n",
    "q_bit_volume = [a, a, a, a, a, a, a, a]\n",
    "column = 2 #number of columns that you are using\n",
    "for i in range(0, column):\n",
    "    await lh.aspirate(buffer[f\"A1:H1\"], vols = q_bit_volume)\n",
    "    await lh.dispense(q_bitp[f\"A{i+1}:H{i+1}\"], vols = q_bit_volume)\n",
    "    \n",
    "#await lh.discard_tips()\n",
    "await lh.drop_tips(tips_300[\"A1:H1\"])\n",
    "\n"
   ]
  },
  {
   "cell_type": "code",
   "execution_count": null,
   "metadata": {},
   "outputs": [],
   "source": [
    "await lh.pick_up_tips(tips_10[\"A1:H1\"])"
   ]
  },
  {
   "cell_type": "code",
   "execution_count": null,
   "metadata": {},
   "outputs": [],
   "source": [
    "dna_qbit_vol = 1.0\n",
    "dna_volume = [dna_qbit_vol, dna_qbit_vol, dna_qbit_vol, dna_qbit_vol, dna_qbit_vol, dna_qbit_vol, dna_qbit_vol, dna_qbit_vol]\n",
    "for j in range(1, column):\n",
    "    await lh.aspirate(buffer[f\"A{j+1}:H{j+1}\"], vols = dna_volume)\n",
    "    await lh.dispense(q_bitp[f\"A{j+1}:H{j+1}\"], vols = dna_volume, mix_volume = 10.0, mix_cycles = 5)\n",
    "    lh.discard_tips\n",
    "  \n",
    "#await lh.discard_tips()\n",
    "await lh.drop_tips(tips_10[\"A1:H1\"])"
   ]
  },
  {
   "cell_type": "code",
   "execution_count": null,
   "metadata": {},
   "outputs": [],
   "source": [
    "# #await lh.aspirate(buffer[\"A1:H1\"], vols = 199.0)\n",
    "# a = 199.0\n",
    "# #q_bit_volume = [199.0, 199.0, 199.0, 199.0, 199.0, 199.0, 199.0, 199.0]\n",
    "# q_bit_volume = [a, a, a, a, a, a, a, a]\n",
    "# await lh.dispense(buffer[\"A1:H1\"], vols = q_bit_volume)"
   ]
  },
  {
   "cell_type": "code",
   "execution_count": null,
   "metadata": {},
   "outputs": [],
   "source": [
    "await lh.discard_tips()"
   ]
  },
  {
   "cell_type": "code",
   "execution_count": null,
   "metadata": {},
   "outputs": [],
   "source": [
    "await lh.drop_tips(tips_300[\"A1:H1\"])"
   ]
  },
  {
   "cell_type": "code",
   "execution_count": null,
   "metadata": {},
   "outputs": [],
   "source": [
    "await lh.pick_up_tips(tips_10[\"A1:H1\"])"
   ]
  },
  {
   "cell_type": "code",
   "execution_count": null,
   "metadata": {},
   "outputs": [],
   "source": [
    "for i in range (1, column):\n",
    "    await lh.aspirate(source[f\"A{i}:H{i}\"], vols = 1.0)\n",
    "    await lh.drop_tips(trash)\n",
    "    await lh.dispense(q_bitp[f\"A{i}:H{i}\"], vols = 1.0, mix_volume = 10.0, mix_cycles = 10)"
   ]
  },
  {
   "cell_type": "code",
   "execution_count": null,
   "metadata": {},
   "outputs": [],
   "source": [
    "trashv = lh.deck.get_trash_area()\n",
    "print(trashv)"
   ]
  },
  {
   "cell_type": "code",
   "execution_count": null,
   "metadata": {},
   "outputs": [],
   "source": [
    "await lh.drop_tips(trash)"
   ]
  }
 ],
 "metadata": {
  "kernelspec": {
   "display_name": "Python 3.11.1 64-bit",
   "language": "python",
   "name": "python3"
  },
  "language_info": {
   "codemirror_mode": {
    "name": "ipython",
    "version": 3
   },
   "file_extension": ".py",
   "mimetype": "text/x-python",
   "name": "python",
   "nbconvert_exporter": "python",
   "pygments_lexer": "ipython3",
   "version": "3.11.1"
  },
  "orig_nbformat": 4,
  "vscode": {
   "interpreter": {
    "hash": "aee8b7b246df8f9039afb4144a1f6fd8d2ca17a180786b69acc140d282b71a49"
   }
  }
 },
 "nbformat": 4,
 "nbformat_minor": 2
}
