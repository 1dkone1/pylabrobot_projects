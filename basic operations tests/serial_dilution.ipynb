{
 "cells": [
  {
   "cell_type": "code",
   "execution_count": 40,
   "metadata": {},
   "outputs": [
    {
     "name": "stdout",
     "output_type": "stream",
     "text": [
      "The autoreload extension is already loaded. To reload it, use:\n",
      "  %reload_ext autoreload\n"
     ]
    }
   ],
   "source": [
    "%load_ext autoreload\n",
    "%autoreload 2\n",
    "from pylabrobot.liquid_handling import LiquidHandler\n",
    "from pylabrobot.liquid_handling.backends import Vantage\n",
    "from pylabrobot.resources.hamilton import VantageDeck\n",
    "backend = VantageDeck(size=1.3)\n",
    "lh = LiquidHandler(backend=Vantage(), deck=backend)"
   ]
  },
  {
   "cell_type": "code",
   "execution_count": 41,
   "metadata": {},
   "outputs": [],
   "source": [
    "await lh.setup()"
   ]
  },
  {
   "cell_type": "code",
   "execution_count": 42,
   "metadata": {},
   "outputs": [],
   "source": [
    "from pylabrobot.resources import (\n",
    "    TIP_CAR_480_A00,\n",
    "    PLT_CAR_L5AC_A00,\n",
    "    Cos_96_DW_1mL,\n",
    "    HTF_L,  #\"\"\" Tip Rack with 96 1000ul High Volume Tip with filter \"\"\"\n",
    "    LT_L,   #\"\"\" Tip Rack with 96 10ul Low Volume Tip with filter \"\"\"\n",
    "    STF_L,  #\"\"\" Tip Rack with 96 300ul Standard Volume Tip with filter \"\"\"\n",
    ")"
   ]
  },
  {
   "cell_type": "code",
   "execution_count": 44,
   "metadata": {},
   "outputs": [
    {
     "name": "stdout",
     "output_type": "stream",
     "text": [
      "Rail     Resource                   Type                Coordinates (mm)\n",
      "===============================================================================================\n",
      "(22) ├── trash                      Trash               (577.500, 185.600, 137.100)\n",
      "\n"
     ]
    }
   ],
   "source": [
    "lh.summary()"
   ]
  },
  {
   "cell_type": "code",
   "execution_count": 45,
   "metadata": {},
   "outputs": [
    {
     "name": "stdout",
     "output_type": "stream",
     "text": [
      "Rail     Resource                   Type                Coordinates (mm)\n",
      "===============================================================================================\n",
      "(14) ├── plate carrier              PlateCarrier        (392.500, 063.000, 100.000)\n",
      "     │   ├── dye                    Plate               (410.500, 146.000, 187.150)\n",
      "     │   ├── plate_01               Plate               (410.500, 242.000, 187.150)\n",
      "     │   ├── source                 Plate               (410.500, 338.000, 187.150)\n",
      "     │   ├── <empty>\n",
      "     │   ├── <empty>\n",
      "     │\n",
      "(20) ├── tip carrier                TipCarrier          (527.500, 063.000, 100.000)\n",
      "     │   ├── tips_10                TipRack             (545.400, 145.800, 192.450)\n",
      "     │   ├── tips_300               TipRack             (545.400, 241.800, 164.450)\n",
      "     │   ├── tips_1000              TipRack             (545.400, 337.800, 131.450)\n",
      "     │   ├── <empty>\n",
      "     │   ├── <empty>\n",
      "     │\n",
      "(22) ├── trash                      Trash               (577.500, 185.600, 137.100)\n",
      "\n"
     ]
    }
   ],
   "source": [
    "tip_car = TIP_CAR_480_A00(name='tip carrier')\n",
    "tip_car[0] = LT_L(name='tips_10')\n",
    "tip_car[1] = STF_L(name='tips_300')\n",
    "tip_car[2] = HTF_L(name='tips_1000')\n",
    "\n",
    "lh.deck.assign_child_resource(tip_car, rails=23)\n",
    "\n",
    "plt_car = PLT_CAR_L5AC_A00(name='plate carrier')\n",
    "plt_car[0] = Cos_96_DW_1mL(name='dye') #Load dye into the A1:H1\n",
    "plt_car[1] = Cos_96_DW_1mL(name='plate_01')\n",
    "plt_car[2] = Cos_96_DW_1mL(name='source')\n",
    "\n",
    "lh.deck.assign_child_resource(plt_car, rails=17)\n",
    "\n",
    "lh.summary()"
   ]
  },
  {
   "cell_type": "code",
   "execution_count": 46,
   "metadata": {},
   "outputs": [],
   "source": [
    "\n",
    "def serial_dilution(stock_concentration, dilution_ratio, num_dilutions, initial_volume=300):\n",
    "\n",
    "    diluent_volumes = []\n",
    "    water_volumes = []\n",
    "    current_volume = initial_volume\n",
    "    for i in range(num_dilutions):\n",
    "        diluent_volume = current_volume - (current_volume / dilution_ratio)\n",
    "        water_volume = initial_volume - diluent_volume\n",
    "        diluent_volumes.append(diluent_volume)\n",
    "        water_volumes.append(water_volume)\n",
    "        current_volume = current_volume / dilution_ratio\n",
    "    return diluent_volumes, water_volumes"
   ]
  },
  {
   "cell_type": "code",
   "execution_count": 47,
   "metadata": {},
   "outputs": [
    {
     "name": "stdout",
     "output_type": "stream",
     "text": [
      "Diluent Volumes (uL):\n",
      "[150.0, 75.0, 37.5, 18.75, 9.375, 4.6875]\n",
      "Water Volumes (uL):\n",
      "[150.0, 225.0, 262.5, 281.25, 290.625, 295.3125]\n"
     ]
    }
   ],
   "source": [
    "# Example usage:\n",
    "stock_concentration = 100  # mg/mL\n",
    "dilution_ratio = 2  # 1:10 dilution\n",
    "num_dilutions = 6\n",
    "\n",
    "diluent_volumes, water_volumes = serial_dilution(stock_concentration, dilution_ratio, num_dilutions)\n",
    "\n",
    "print(\"Diluent Volumes (uL):\")\n",
    "print(diluent_volumes)\n",
    "print(\"Water Volumes (uL):\")\n",
    "print(water_volumes)"
   ]
  },
  {
   "cell_type": "code",
   "execution_count": 63,
   "metadata": {},
   "outputs": [],
   "source": [
    "tiprack_1 = lh.deck.get_resource(\"tips_10\")\n",
    "tiprack_2 = lh.deck.get_resource(\"tips_300\")\n",
    "tiprack_3 = lh.deck.get_resource(\"tips_1000\")\n",
    "await lh.pick_up_tips(tiprack_2[\"A1:H1\"])"
   ]
  },
  {
   "cell_type": "code",
   "execution_count": 64,
   "metadata": {},
   "outputs": [],
   "source": [
    "dye = lh.deck.get_resource(\"dye\")\n",
    "water = lh.deck.get_resource(\"source\")\n",
    "plate1 = lh.deck.get_resource(\"plate_01\")\n",
    "\n"
   ]
  },
  {
   "cell_type": "code",
   "execution_count": 66,
   "metadata": {},
   "outputs": [],
   "source": [
    "await lh.drop_tips(tiprack_2[\"A1:H1\"])"
   ]
  },
  {
   "cell_type": "code",
   "execution_count": 67,
   "metadata": {},
   "outputs": [],
   "source": [
    "await lh.pick_up_tips(tiprack_2[\"A2:H2\"])"
   ]
  },
  {
   "cell_type": "code",
   "execution_count": 72,
   "metadata": {},
   "outputs": [],
   "source": [
    "stock_concentration = 100  # mg/mL\n",
    "dilution_ratio = 2  # 1:10 dilution\n",
    "num_dilutions = 6\n",
    "\n",
    "diluent_volumes, water_volumes = serial_dilution(stock_concentration, dilution_ratio, num_dilutions)\n",
    "await lh.aspirate(water[\"A1:F1\"], vols=water_volumes)\n",
    "await lh.dispense(plate1[\"A1:F1\"], vols=water_volumes)"
   ]
  },
  {
   "cell_type": "code",
   "execution_count": 73,
   "metadata": {},
   "outputs": [],
   "source": [
    "await lh.drop_tips(tiprack_2[\"A2:H2\"])"
   ]
  }
 ],
 "metadata": {
  "kernelspec": {
   "display_name": "Python 3.11.1 64-bit",
   "language": "python",
   "name": "python3"
  },
  "language_info": {
   "codemirror_mode": {
    "name": "ipython",
    "version": 3
   },
   "file_extension": ".py",
   "mimetype": "text/x-python",
   "name": "python",
   "nbconvert_exporter": "python",
   "pygments_lexer": "ipython3",
   "version": "3.11.1"
  },
  "orig_nbformat": 4,
  "vscode": {
   "interpreter": {
    "hash": "aee8b7b246df8f9039afb4144a1f6fd8d2ca17a180786b69acc140d282b71a49"
   }
  }
 },
 "nbformat": 4,
 "nbformat_minor": 2
}
