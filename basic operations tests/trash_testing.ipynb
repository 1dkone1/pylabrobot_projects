{
 "cells": [
  {
   "cell_type": "code",
   "execution_count": 1,
   "metadata": {},
   "outputs": [],
   "source": [
    "%load_ext autoreload\n",
    "%autoreload 2\n",
    "from pylabrobot.liquid_handling.backends.hamilton import vantage\n",
    "from pylabrobot.liquid_handling import LiquidHandler\n",
    "from pylabrobot.liquid_handling.backends import Vantage\n",
    "from pylabrobot.resources.hamilton import VantageDeck\n",
    "backend = VantageDeck(size=1.3)\n",
    "lh = LiquidHandler(backend=Vantage(), deck=backend)\n"
   ]
  },
  {
   "cell_type": "code",
   "execution_count": 2,
   "metadata": {},
   "outputs": [],
   "source": [
    "await lh.setup()"
   ]
  },
  {
   "cell_type": "code",
   "execution_count": 3,
   "metadata": {},
   "outputs": [],
   "source": [
    "from pylabrobot.resources import (\n",
    "    TIP_CAR_480_A00,\n",
    "    PLT_CAR_L5AC_A00,\n",
    "    Cos_96_DW_1mL,\n",
    "    PCR_Plate_96_Well,\n",
    "    Cos_96_PCR,\n",
    "    Cos_96_DW_2mL,\n",
    "    HTF_L,  #\"\"\" Tip Rack with 96 1000ul High Volume Tip with filter \"\"\"\n",
    "    LT_L,   #\"\"\" Tip Rack with 96 10ul Low Volume Tip with filter \"\"\"\n",
    "    STF_L,  #\"\"\" Tip Rack with 96 300ul Standard Volume Tip with filter \"\"\"\n",
    ")"
   ]
  },
  {
   "cell_type": "code",
   "execution_count": 4,
   "metadata": {},
   "outputs": [
    {
     "name": "stdout",
     "output_type": "stream",
     "text": [
      "Rail     Resource                   Type                Coordinates (mm)\n",
      "===============================================================================================\n",
      "(30) ├── trash                      Trash               (757.500, 160.000, 190.000)\n",
      "\n"
     ]
    }
   ],
   "source": [
    "lh.summary()"
   ]
  },
  {
   "cell_type": "code",
   "execution_count": 5,
   "metadata": {},
   "outputs": [],
   "source": [
    "tip_car = TIP_CAR_480_A00(name='tip carrier')\n",
    "tip_car[0] = LT_L(name='tips_10')\n",
    "tip_car[1] = STF_L(name='tips_300')\n",
    "tip_car[2] = HTF_L(name='tips_1000')\n",
    "\n",
    "\n",
    "\n",
    "plt_car = PLT_CAR_L5AC_A00(name='plate carrier')\n",
    "plt_car[0] = Cos_96_DW_1mL(name='final')\n",
    "plt_car[1] = Cos_96_PCR(name='source')\n",
    "plt_car[2] = Cos_96_DW_2mL(name='buffer')\n"
   ]
  },
  {
   "cell_type": "code",
   "execution_count": 6,
   "metadata": {},
   "outputs": [
    {
     "name": "stdout",
     "output_type": "stream",
     "text": [
      "Rail     Resource                   Type                Coordinates (mm)\n",
      "===============================================================================================\n",
      "(14) ├── plate carrier              PlateCarrier        (392.500, 063.000, 100.000)\n",
      "     │   ├── final                  Plate               (410.500, 146.000, 187.150)\n",
      "     │   ├── source                 Plate               (410.500, 242.000, 186.650)\n",
      "     │   ├── buffer                 Plate               (410.500, 338.000, 187.150)\n",
      "     │   ├── <empty>\n",
      "     │   ├── <empty>\n",
      "     │\n",
      "(21) ├── tip carrier                TipCarrier          (550.000, 063.000, 100.000)\n",
      "     │   ├── tips_10                TipRack             (567.900, 145.800, 192.450)\n",
      "     │   ├── tips_300               TipRack             (567.900, 241.800, 164.450)\n",
      "     │   ├── tips_1000              TipRack             (567.900, 337.800, 131.450)\n",
      "     │   ├── <empty>\n",
      "     │   ├── <empty>\n",
      "     │\n",
      "(30) ├── trash                      Trash               (757.500, 160.000, 190.000)\n",
      "\n"
     ]
    }
   ],
   "source": [
    "lh.deck.assign_child_resource(tip_car, rails=24)\n",
    "lh.deck.assign_child_resource(plt_car, rails=17)\n",
    "lh.summary()"
   ]
  },
  {
   "cell_type": "code",
   "execution_count": 7,
   "metadata": {},
   "outputs": [],
   "source": [
    "tips_10 = lh.deck.get_resource(\"tips_10\")\n",
    "tips_300 = lh.deck.get_resource(\"tips_300\")\n",
    "tips_1000 = lh.deck.get_resource(\"tips_1000\")\n",
    "\n",
    "q_bitp = lh.deck.get_resource(\"final\")\n",
    "buffer = lh.deck.get_resource(\"buffer\")\n",
    "source = lh.deck.get_resource(\"source\")\n"
   ]
  },
  {
   "cell_type": "code",
   "execution_count": null,
   "metadata": {},
   "outputs": [],
   "source": [
    "await lh.pick_up_tips(tips_1000[\"A12:H12\"])\n",
    "#await lh.pick_up_tips(tips_1000[\"A12\"])"
   ]
  },
  {
   "cell_type": "code",
   "execution_count": 9,
   "metadata": {},
   "outputs": [
    {
     "ename": "RuntimeError",
     "evalue": "No tips have been picked up and no channels were specified.",
     "output_type": "error",
     "traceback": [
      "\u001b[0;31m---------------------------------------------------------------------------\u001b[0m",
      "\u001b[0;31mRuntimeError\u001b[0m                              Traceback (most recent call last)",
      "Cell \u001b[0;32mIn[9], line 1\u001b[0m\n\u001b[0;32m----> 1\u001b[0m \u001b[39mawait\u001b[39;00m lh\u001b[39m.\u001b[39mdiscard_tips()\n",
      "File \u001b[0;32m/Library/Frameworks/Python.framework/Versions/3.11/lib/python3.11/site-packages/pylabrobot/liquid_handling/liquid_handler.py:578\u001b[0m, in \u001b[0;36mLiquidHandler.discard_tips\u001b[0;34m(self, use_channels, **backend_kwargs)\u001b[0m\n\u001b[1;32m    575\u001b[0m n \u001b[39m=\u001b[39m \u001b[39mlen\u001b[39m(use_channels)\n\u001b[1;32m    577\u001b[0m \u001b[39mif\u001b[39;00m n \u001b[39m==\u001b[39m \u001b[39m0\u001b[39m:\n\u001b[0;32m--> 578\u001b[0m   \u001b[39mraise\u001b[39;00m \u001b[39mRuntimeError\u001b[39;00m(\u001b[39m\"\u001b[39m\u001b[39mNo tips have been picked up and no channels were specified.\u001b[39m\u001b[39m\"\u001b[39m)\n\u001b[1;32m    580\u001b[0m trash \u001b[39m=\u001b[39m \u001b[39mself\u001b[39m\u001b[39m.\u001b[39mdeck\u001b[39m.\u001b[39mget_trash_area()\n\u001b[1;32m    581\u001b[0m offsets \u001b[39m=\u001b[39m trash\u001b[39m.\u001b[39mget_2d_center_offsets(n\u001b[39m=\u001b[39mn)\n",
      "\u001b[0;31mRuntimeError\u001b[0m: No tips have been picked up and no channels were specified."
     ]
    }
   ],
   "source": [
    "await lh.discard_tips()"
   ]
  },
  {
   "cell_type": "code",
   "execution_count": null,
   "metadata": {},
   "outputs": [],
   "source": []
  },
  {
   "cell_type": "code",
   "execution_count": null,
   "metadata": {},
   "outputs": [],
   "source": [
    "await lh.drop_tips(tips_1000[\"A12:H12\"])\n",
    "#await lh.drop_tips(tips_1000[\"A12\"])"
   ]
  },
  {
   "cell_type": "code",
   "execution_count": 8,
   "metadata": {},
   "outputs": [],
   "source": [
    "await lh.pick_up_tips96(tips_1000)"
   ]
  },
  {
   "cell_type": "code",
   "execution_count": 10,
   "metadata": {},
   "outputs": [],
   "source": [
    "await lh.drop_tips96(tips_1000)"
   ]
  }
 ],
 "metadata": {
  "kernelspec": {
   "display_name": "Python 3.11.1 64-bit",
   "language": "python",
   "name": "python3"
  },
  "language_info": {
   "codemirror_mode": {
    "name": "ipython",
    "version": 3
   },
   "file_extension": ".py",
   "mimetype": "text/x-python",
   "name": "python",
   "nbconvert_exporter": "python",
   "pygments_lexer": "ipython3",
   "version": "3.11.1"
  },
  "orig_nbformat": 4,
  "vscode": {
   "interpreter": {
    "hash": "aee8b7b246df8f9039afb4144a1f6fd8d2ca17a180786b69acc140d282b71a49"
   }
  }
 },
 "nbformat": 4,
 "nbformat_minor": 2
}
