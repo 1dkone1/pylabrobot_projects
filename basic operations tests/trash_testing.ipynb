{
 "cells": [
  {
   "cell_type": "code",
   "execution_count": null,
   "metadata": {},
   "outputs": [],
   "source": [
    "%load_ext autoreload\n",
    "%autoreload 2\n",
    "from pylabrobot.liquid_handling.backends.hamilton import vantage\n",
    "from pylabrobot.liquid_handling import LiquidHandler\n",
    "from pylabrobot.liquid_handling.backends import Vantage\n",
    "from pylabrobot.resources.hamilton import VantageDeck\n",
    "backend = VantageDeck(size=1.3)\n",
    "lh = LiquidHandler(backend=Vantage(), deck=backend)\n"
   ]
  },
  {
   "cell_type": "code",
   "execution_count": null,
   "metadata": {},
   "outputs": [],
   "source": [
    "await lh.setup()"
   ]
  },
  {
   "cell_type": "code",
   "execution_count": null,
   "metadata": {},
   "outputs": [],
   "source": [
    "from pylabrobot.resources import (\n",
    "    TIP_CAR_480_A00,\n",
    "    PLT_CAR_L5AC_A00,\n",
    "    Cos_96_DW_1mL,\n",
    "    PCR_Plate_96_Well,\n",
    "    Cos_96_PCR,\n",
    "    Cos_96_DW_2mL,\n",
    "    HTF_L,  #\"\"\" Tip Rack with 96 1000ul High Volume Tip with filter \"\"\"\n",
    "    LT_L,   #\"\"\" Tip Rack with 96 10ul Low Volume Tip with filter \"\"\"\n",
    "    STF_L,  #\"\"\" Tip Rack with 96 300ul Standard Volume Tip with filter \"\"\"\n",
    ")"
   ]
  },
  {
   "cell_type": "code",
   "execution_count": null,
   "metadata": {},
   "outputs": [],
   "source": [
    "lh.summary()"
   ]
  },
  {
   "cell_type": "code",
   "execution_count": null,
   "metadata": {},
   "outputs": [],
   "source": [
    "tip_car = TIP_CAR_480_A00(name='tip carrier')\n",
    "tip_car[0] = LT_L(name='tips_10')\n",
    "tip_car[1] = STF_L(name='tips_300')\n",
    "tip_car[2] = HTF_L(name='tips_1000')\n",
    "\n",
    "\n",
    "\n",
    "plt_car = PLT_CAR_L5AC_A00(name='plate carrier')\n",
    "plt_car[0] = Cos_96_DW_1mL(name='final')\n",
    "plt_car[1] = Cos_96_PCR(name='source')\n",
    "plt_car[2] = Cos_96_DW_2mL(name='buffer')\n"
   ]
  },
  {
   "cell_type": "code",
   "execution_count": null,
   "metadata": {},
   "outputs": [],
   "source": [
    "lh.deck.assign_child_resource(tip_car, rails=24)\n",
    "lh.deck.assign_child_resource(plt_car, rails=17)\n",
    "lh.summary()"
   ]
  },
  {
   "cell_type": "code",
   "execution_count": null,
   "metadata": {},
   "outputs": [],
   "source": [
    "tips_10 = lh.deck.get_resource(\"tips_10\")\n",
    "tips_300 = lh.deck.get_resource(\"tips_300\")\n",
    "tips_1000 = lh.deck.get_resource(\"tips_1000\")\n",
    "\n",
    "q_bitp = lh.deck.get_resource(\"final\")\n",
    "buffer = lh.deck.get_resource(\"buffer\")\n",
    "source = lh.deck.get_resource(\"source\")\n"
   ]
  },
  {
   "cell_type": "code",
   "execution_count": null,
   "metadata": {},
   "outputs": [],
   "source": [
    "await lh.pick_up_tips(tips_1000[\"A12:H12\"])\n",
    "#await lh.pick_up_tips(tips_1000[\"A12\"])"
   ]
  },
  {
   "cell_type": "code",
   "execution_count": null,
   "metadata": {},
   "outputs": [],
   "source": [
    "await lh.discard_tips()"
   ]
  },
  {
   "cell_type": "code",
   "execution_count": null,
   "metadata": {},
   "outputs": [],
   "source": [
    "await lh.drop_tips(tips_1000[\"A12:H12\"])\n",
    "#await lh.drop_tips(tips_1000[\"A12\"])"
   ]
  },
  {
   "cell_type": "code",
   "execution_count": null,
   "metadata": {},
   "outputs": [],
   "source": [
    "await lh.pick_up_tips96(tips_1000)"
   ]
  },
  {
   "cell_type": "code",
   "execution_count": null,
   "metadata": {},
   "outputs": [],
   "source": []
  }
 ],
 "metadata": {
  "kernelspec": {
   "display_name": "Python 3.11.1 64-bit",
   "language": "python",
   "name": "python3"
  },
  "language_info": {
   "codemirror_mode": {
    "name": "ipython",
    "version": 3
   },
   "file_extension": ".py",
   "mimetype": "text/x-python",
   "name": "python",
   "nbconvert_exporter": "python",
   "pygments_lexer": "ipython3",
   "version": "3.11.1"
  },
  "orig_nbformat": 4,
  "vscode": {
   "interpreter": {
    "hash": "aee8b7b246df8f9039afb4144a1f6fd8d2ca17a180786b69acc140d282b71a49"
   }
  }
 },
 "nbformat": 4,
 "nbformat_minor": 2
}
