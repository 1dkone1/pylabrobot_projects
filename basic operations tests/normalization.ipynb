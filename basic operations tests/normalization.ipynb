{
 "cells": [
  {
   "cell_type": "code",
   "execution_count": null,
   "metadata": {},
   "outputs": [],
   "source": [
    "%load_ext autoreload\n",
    "%autoreload 2\n",
    "from pylabrobot.liquid_handling import LiquidHandler\n",
    "from pylabrobot.liquid_handling.backends import Vantage\n",
    "from pylabrobot.resources.hamilton import VantageDeck\n",
    "backend = VantageDeck(size=1.3)\n",
    "lh = LiquidHandler(backend=Vantage(), deck=backend)"
   ]
  },
  {
   "cell_type": "code",
   "execution_count": null,
   "metadata": {},
   "outputs": [],
   "source": [
    "await lh.setup()"
   ]
  },
  {
   "cell_type": "code",
   "execution_count": null,
   "metadata": {},
   "outputs": [],
   "source": [
    "from pylabrobot.resources import (\n",
    "    TIP_CAR_480_A00,\n",
    "    PLT_CAR_L5AC_A00,\n",
    "    Cos_96_DW_1mL,\n",
    "    PCR_Plate_96_Well,\n",
    "    HTF_L,  #\"\"\" Tip Rack with 96 1000ul High Volume Tip with filter \"\"\"\n",
    "    LT_L,   #\"\"\" Tip Rack with 96 10ul Low Volume Tip with filter \"\"\"\n",
    "    STF_L,  #\"\"\" Tip Rack with 96 300ul Standard Volume Tip with filter \"\"\"\n",
    ")"
   ]
  },
  {
   "cell_type": "code",
   "execution_count": null,
   "metadata": {},
   "outputs": [],
   "source": [
    "lh.summary()"
   ]
  },
  {
   "cell_type": "code",
   "execution_count": null,
   "metadata": {},
   "outputs": [],
   "source": [
    "tip_car = TIP_CAR_480_A00(name='tip carrier')\n",
    "tip_car[0] = LT_L(name='tips_10')\n",
    "tip_car[1] = STF_L(name='tips_300')\n",
    "tip_car[2] = HTF_L(name='tips_1000')\n",
    "\n",
    "lh.deck.assign_child_resource(tip_car, rails=23)\n",
    "\n",
    "plt_car = PLT_CAR_L5AC_A00(name='plate carrier')\n",
    "plt_car[0] = PCR_Plate_96_Well(name='final')\n",
    "plt_car[1] = PCR_Plate_96_Well(name='source')\n",
    "plt_car[2] = Cos_96_DW_1mL(name='water')\n",
    "\n",
    "lh.deck.assign_child_resource(plt_car, rails=17)\n",
    "\n",
    "lh.summary()"
   ]
  },
  {
   "cell_type": "code",
   "execution_count": null,
   "metadata": {},
   "outputs": [],
   "source": []
  }
 ],
 "metadata": {
  "kernelspec": {
   "display_name": "Python 3.11.1 64-bit",
   "language": "python",
   "name": "python3"
  },
  "language_info": {
   "name": "python",
   "version": "3.11.1"
  },
  "orig_nbformat": 4,
  "vscode": {
   "interpreter": {
    "hash": "aee8b7b246df8f9039afb4144a1f6fd8d2ca17a180786b69acc140d282b71a49"
   }
  }
 },
 "nbformat": 4,
 "nbformat_minor": 2
}
