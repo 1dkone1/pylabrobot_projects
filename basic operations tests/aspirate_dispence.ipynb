{
 "cells": [
  {
   "cell_type": "code",
   "execution_count": 1,
   "metadata": {},
   "outputs": [],
   "source": [
    "%load_ext autoreload\n",
    "%autoreload 2\n",
    "from pylabrobot.liquid_handling import LiquidHandler\n",
    "from pylabrobot.liquid_handling.backends import Vantage\n",
    "from pylabrobot.resources.hamilton import VantageDeck\n",
    "backend = VantageDeck(size=1.3)\n",
    "lh = LiquidHandler(backend=Vantage(), deck=backend)"
   ]
  },
  {
   "cell_type": "code",
   "execution_count": 6,
   "metadata": {},
   "outputs": [
    {
     "ename": "RuntimeError",
     "evalue": "USB device not found.",
     "output_type": "error",
     "traceback": [
      "\u001b[0;31m---------------------------------------------------------------------------\u001b[0m",
      "\u001b[0;31mRuntimeError\u001b[0m                              Traceback (most recent call last)",
      "Cell \u001b[0;32mIn[6], line 1\u001b[0m\n\u001b[0;32m----> 1\u001b[0m \u001b[39mawait\u001b[39;00m lh\u001b[39m.\u001b[39msetup()\n",
      "File \u001b[0;32m/Library/Frameworks/Python.framework/Versions/3.11/lib/python3.11/site-packages/pylabrobot/liquid_handling/liquid_handler.py:114\u001b[0m, in \u001b[0;36mLiquidHandler.setup\u001b[0;34m(self)\u001b[0m\n\u001b[1;32m    111\u001b[0m \u001b[39mif\u001b[39;00m \u001b[39mself\u001b[39m\u001b[39m.\u001b[39msetup_finished:\n\u001b[1;32m    112\u001b[0m   \u001b[39mraise\u001b[39;00m \u001b[39mRuntimeError\u001b[39;00m(\u001b[39m\"\u001b[39m\u001b[39mThe setup has already finished. See `LiquidHandler.stop`.\u001b[39m\u001b[39m\"\u001b[39m)\n\u001b[0;32m--> 114\u001b[0m \u001b[39mawait\u001b[39;00m \u001b[39msuper\u001b[39m()\u001b[39m.\u001b[39msetup()\n\u001b[1;32m    116\u001b[0m \u001b[39mself\u001b[39m\u001b[39m.\u001b[39mhead \u001b[39m=\u001b[39m {c: TipTracker(thing\u001b[39m=\u001b[39m\u001b[39mf\u001b[39m\u001b[39m\"\u001b[39m\u001b[39mChannel \u001b[39m\u001b[39m{\u001b[39;00mc\u001b[39m}\u001b[39;00m\u001b[39m\"\u001b[39m) \u001b[39mfor\u001b[39;00m c \u001b[39min\u001b[39;00m \u001b[39mrange\u001b[39m(\u001b[39mself\u001b[39m\u001b[39m.\u001b[39mbackend\u001b[39m.\u001b[39mnum_channels)}\n\u001b[1;32m    117\u001b[0m \u001b[39mself\u001b[39m\u001b[39m.\u001b[39mhead96 \u001b[39m=\u001b[39m {c: TipTracker(thing\u001b[39m=\u001b[39m\u001b[39mf\u001b[39m\u001b[39m\"\u001b[39m\u001b[39mChannel \u001b[39m\u001b[39m{\u001b[39;00mc\u001b[39m}\u001b[39;00m\u001b[39m\"\u001b[39m) \u001b[39mfor\u001b[39;00m c \u001b[39min\u001b[39;00m \u001b[39mrange\u001b[39m(\u001b[39m96\u001b[39m)}\n",
      "File \u001b[0;32m/Library/Frameworks/Python.framework/Versions/3.11/lib/python3.11/site-packages/pylabrobot/machine.py:63\u001b[0m, in \u001b[0;36mMachine.setup\u001b[0;34m(self)\u001b[0m\n\u001b[1;32m     62\u001b[0m \u001b[39masync\u001b[39;00m \u001b[39mdef\u001b[39;00m \u001b[39msetup\u001b[39m(\u001b[39mself\u001b[39m):\n\u001b[0;32m---> 63\u001b[0m   \u001b[39mawait\u001b[39;00m \u001b[39mself\u001b[39m\u001b[39m.\u001b[39mbackend\u001b[39m.\u001b[39msetup()\n\u001b[1;32m     64\u001b[0m   \u001b[39mself\u001b[39m\u001b[39m.\u001b[39m_setup_finished \u001b[39m=\u001b[39m \u001b[39mTrue\u001b[39;00m\n",
      "File \u001b[0;32m/Library/Frameworks/Python.framework/Versions/3.11/lib/python3.11/site-packages/pylabrobot/liquid_handling/backends/hamilton/vantage.py:383\u001b[0m, in \u001b[0;36mVantage.setup\u001b[0;34m(self)\u001b[0m\n\u001b[1;32m    377\u001b[0m \u001b[39masync\u001b[39;00m \u001b[39mdef\u001b[39;00m \u001b[39msetup\u001b[39m(\u001b[39mself\u001b[39m):\n\u001b[1;32m    378\u001b[0m \u001b[39m  \u001b[39m\u001b[39m\"\"\" setup\u001b[39;00m\n\u001b[1;32m    379\u001b[0m \n\u001b[1;32m    380\u001b[0m \u001b[39m  Creates a USB connection and finds read/write interfaces.\u001b[39;00m\n\u001b[1;32m    381\u001b[0m \u001b[39m  \"\"\"\u001b[39;00m\n\u001b[0;32m--> 383\u001b[0m   \u001b[39mawait\u001b[39;00m \u001b[39msuper\u001b[39m()\u001b[39m.\u001b[39msetup()\n\u001b[1;32m    385\u001b[0m   tip_presences \u001b[39m=\u001b[39m \u001b[39mawait\u001b[39;00m \u001b[39mself\u001b[39m\u001b[39m.\u001b[39mquery_tip_presence()\n\u001b[1;32m    386\u001b[0m   \u001b[39mself\u001b[39m\u001b[39m.\u001b[39m_num_channels \u001b[39m=\u001b[39m \u001b[39mlen\u001b[39m(tip_presences)\n",
      "File \u001b[0;32m/Library/Frameworks/Python.framework/Versions/3.11/lib/python3.11/site-packages/pylabrobot/liquid_handling/backends/USBBackend.py:197\u001b[0m, in \u001b[0;36mUSBBackend.setup\u001b[0;34m(self)\u001b[0m\n\u001b[1;32m    195\u001b[0m devices \u001b[39m=\u001b[39m \u001b[39mself\u001b[39m\u001b[39m.\u001b[39mget_available_devices()\n\u001b[1;32m    196\u001b[0m \u001b[39mif\u001b[39;00m \u001b[39mlen\u001b[39m(devices) \u001b[39m==\u001b[39m \u001b[39m0\u001b[39m:\n\u001b[0;32m--> 197\u001b[0m   \u001b[39mraise\u001b[39;00m \u001b[39mRuntimeError\u001b[39;00m(\u001b[39m\"\u001b[39m\u001b[39mUSB device not found.\u001b[39m\u001b[39m\"\u001b[39m)\n\u001b[1;32m    198\u001b[0m \u001b[39mif\u001b[39;00m \u001b[39mlen\u001b[39m(devices) \u001b[39m>\u001b[39m \u001b[39m1\u001b[39m:\n\u001b[1;32m    199\u001b[0m   logging\u001b[39m.\u001b[39mwarning(\u001b[39m\"\u001b[39m\u001b[39mMultiple devices found. Using the first one.\u001b[39m\u001b[39m\"\u001b[39m)\n",
      "\u001b[0;31mRuntimeError\u001b[0m: USB device not found."
     ]
    }
   ],
   "source": [
    "await lh.setup()"
   ]
  },
  {
   "cell_type": "code",
   "execution_count": 2,
   "metadata": {},
   "outputs": [],
   "source": [
    "from pylabrobot.resources import (\n",
    "    TIP_CAR_480_A00,\n",
    "    PLT_CAR_L5AC_A00,\n",
    "    Cos_96_DW_1mL,\n",
    "    HTF_L,  #\"\"\" Tip Rack with 96 1000ul High Volume Tip with filter \"\"\"\n",
    "    LT_L,   #\"\"\" Tip Rack with 96 10ul Low Volume Tip with filter \"\"\"\n",
    "    STF_L,  #\"\"\" Tip Rack with 96 300ul Standard Volume Tip with filter \"\"\"\n",
    ")"
   ]
  },
  {
   "cell_type": "code",
   "execution_count": 3,
   "metadata": {},
   "outputs": [
    {
     "name": "stdout",
     "output_type": "stream",
     "text": [
      "Rail     Resource                   Type                Coordinates (mm)\n",
      "===============================================================================================\n",
      "(22) ├── trash                      Trash               (577.500, 185.600, 137.100)\n",
      "\n"
     ]
    }
   ],
   "source": [
    "lh.summary()"
   ]
  },
  {
   "cell_type": "code",
   "execution_count": null,
   "metadata": {},
   "outputs": [],
   "source": [
    "tip_car = TIP_CAR_480_A00(name='tip carrier')\n",
    "tip_car[0] = LT_L(name='tips_10')\n",
    "tip_car[1] = STF_L(name='tips_300')\n",
    "tip_car[2] = HTF_L(name='tips_1000')"
   ]
  },
  {
   "cell_type": "code",
   "execution_count": null,
   "metadata": {},
   "outputs": [],
   "source": [
    "lh.deck.assign_child_resource(tip_car, rails=23)"
   ]
  },
  {
   "cell_type": "code",
   "execution_count": null,
   "metadata": {},
   "outputs": [],
   "source": [
    "plt_car = PLT_CAR_L5AC_A00(name='plate carrier')\n",
    "plt_car[0] = Cos_96_DW_1mL(name='plate_01')\n",
    "plt_car[1] = Cos_96_DW_1mL(name='plate_02')\n",
    "plt_car[2] = Cos_96_DW_1mL(name='source')"
   ]
  },
  {
   "cell_type": "code",
   "execution_count": null,
   "metadata": {},
   "outputs": [],
   "source": [
    "lh.deck.assign_child_resource(plt_car, rails=17)"
   ]
  }
 ],
 "metadata": {
  "kernelspec": {
   "display_name": "Python 3.11.1 64-bit",
   "language": "python",
   "name": "python3"
  },
  "language_info": {
   "codemirror_mode": {
    "name": "ipython",
    "version": 3
   },
   "file_extension": ".py",
   "mimetype": "text/x-python",
   "name": "python",
   "nbconvert_exporter": "python",
   "pygments_lexer": "ipython3",
   "version": "3.11.1"
  },
  "orig_nbformat": 4,
  "vscode": {
   "interpreter": {
    "hash": "aee8b7b246df8f9039afb4144a1f6fd8d2ca17a180786b69acc140d282b71a49"
   }
  }
 },
 "nbformat": 4,
 "nbformat_minor": 2
}
